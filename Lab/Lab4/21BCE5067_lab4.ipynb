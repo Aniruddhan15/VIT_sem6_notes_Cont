{
  "nbformat": 4,
  "nbformat_minor": 0,
  "metadata": {
    "colab": {
      "provenance": []
    },
    "kernelspec": {
      "name": "python3",
      "display_name": "Python 3"
    },
    "language_info": {
      "name": "python"
    }
  },
  "cells": [
    {
      "cell_type": "markdown",
      "source": [
        "Q1. Suppose you want to build Naïve Bayes classifier for predicting whether a\n",
        "cricket match will be played in the given weather conditions or not. Here the\n",
        "weather conditions are described by features outlook, temperature, humidity and\n",
        "wind. The target is play with two class labels Yes and No. (Dataset: play.csv)\n",
        "a. Implement Naïve Bayes classifier which must\n",
        "o Print the class prior probabilities form the training set\n",
        "o Classify the test sample <Rain, Cool, High, Strong>. Need to print\n",
        "likelihood for <Rain, Cool, High, Strong> and also class\n",
        "conditional probabilities for “YES” and “NO” classes.\n",
        "b. Use sklearn CategoricalNB to validate the results obtained above."
      ],
      "metadata": {
        "id": "RBKq_P3uWaFS"
      }
    },
    {
      "cell_type": "code",
      "execution_count": 35,
      "metadata": {
        "colab": {
          "base_uri": "https://localhost:8080/"
        },
        "id": "MUmgZyt0IzWx",
        "outputId": "2c663c01-5647-429e-91ae-317c8e4ce322"
      },
      "outputs": [
        {
          "output_type": "stream",
          "name": "stdout",
          "text": [
            "Priori Values:  {'No': 0.35714285714285715, 'Yes': 0.6428571428571429}\n",
            "\n",
            "Calculated Conditional Probabilities: \n",
            "\n",
            "{'No': {'Mild': 0.6, 'Normal': 0.4, 'Rain': 0.6, 'Strong': 0.8},\n",
            " 'Yes': {'Mild': 0.5555555555555556,\n",
            "         'Normal': 0.7777777777777778,\n",
            "         'Rain': 0.4444444444444444,\n",
            "         'Strong': 0.4444444444444444}}\n",
            "Result: \n",
            "No  ==>  0.04114285714285714\n",
            "Yes  ==>  0.05486968449931413\n"
          ]
        }
      ],
      "source": [
        "from functools import reduce\n",
        "\n",
        "import pandas as pd\n",
        "import pprint\n",
        "\n",
        "class Classifier():\n",
        "    data = None\n",
        "    class_attr = None\n",
        "    priori = {}\n",
        "    cp = {}\n",
        "    hypothesis = None\n",
        "\n",
        "\n",
        "    def __init__(self,filename=None, class_attr=None ):\n",
        "        self.data = pd.read_csv(\"play.csv\")\n",
        "        self.class_attr = class_attr\n",
        "\n",
        "    '''\n",
        "        probability(class) =    How many  times it appears in cloumn\n",
        "                             __________________________________________\n",
        "                                  count of all class attribute\n",
        "    '''\n",
        "    def calculate_priori(self):\n",
        "        class_values = list(set(self.data[self.class_attr]))\n",
        "        class_data =  list(self.data[self.class_attr])\n",
        "        for i in class_values:\n",
        "            self.priori[i]  = class_data.count(i)/float(len(class_data))\n",
        "        print (\"Priori Values: \", self.priori)\n",
        "\n",
        "    '''\n",
        "        Here we calculate the individual probabilites\n",
        "        P(outcome|evidence) =   P(Likelihood of Evidence) x Prior prob of outcome\n",
        "                               ___________________________________________\n",
        "                                                    P(Evidence)\n",
        "    '''\n",
        "    def get_cp(self, attr, attr_type, class_value):\n",
        "        data_attr = list(self.data[attr])\n",
        "        class_data = list(self.data[self.class_attr])\n",
        "        total =1\n",
        "        for i in range(0, len(data_attr)):\n",
        "            if class_data[i] == class_value and data_attr[i] == attr_type:\n",
        "                total+=1\n",
        "        return total/float(class_data.count(class_value))\n",
        "\n",
        "    '''\n",
        "        Here we calculate Likelihood of Evidence and multiple all individual probabilities with priori\n",
        "        (Outcome|Multiple Evidence) = P(Evidence1|Outcome) x P(Evidence2|outcome) x ... x P(EvidenceN|outcome) x P(Outcome)\n",
        "        scaled by P(Multiple Evidence)\n",
        "    '''\n",
        "    def calculate_conditional_probabilities(self, hypothesis):\n",
        "        for i in self.priori:\n",
        "            self.cp[i] = {}\n",
        "            for j in hypothesis:\n",
        "                self.cp[i].update({ hypothesis[j]: self.get_cp(j, hypothesis[j], i)})\n",
        "        print (\"\\nCalculated Conditional Probabilities: \\n\")\n",
        "        pprint.pprint(self.cp)\n",
        "\n",
        "    def classify(self):\n",
        "        print (\"Result: \")\n",
        "        for i in self.cp:\n",
        "            print (i, \" ==> \", reduce(lambda x, y: x*y, self.cp[i].values())*self.priori[i])\n",
        "\n",
        "if __name__ == \"__main__\":\n",
        "    c = Classifier(filename=\"play.csv\", class_attr=\"play\" )\n",
        "    c.calculate_priori()\n",
        "    c.hypothesis = {\"outlook\":'Rain', \"temp\":\"Mild\", \"humidity\":'Normal' , \"wind\":'Strong'}\n",
        "\n",
        "    c.calculate_conditional_probabilities(c.hypothesis)\n",
        "    c.classify()"
      ]
    },
    {
      "cell_type": "markdown",
      "source": [
        "Q2. Assume you need to build a classifier to predict the graduate admissions into\n",
        "global universities for higher studies using parameters such as UG GPA, GRE\n",
        "score, research expertise, etc. Using the graduate.csv dataset, build a naïve bayes\n",
        "classifier to predict the graduate admissions chances. Report accuracy."
      ],
      "metadata": {
        "id": "GrNXIxUBWciU"
      }
    },
    {
      "cell_type": "code",
      "source": [
        "import pandas as pd\n",
        "from sklearn.naive_bayes import GaussianNB\n",
        "from sklearn.model_selection import train_test_split\n",
        "from sklearn.metrics import accuracy_score\n",
        "\n",
        "# Load the dataset\n",
        "data = pd.read_csv('Graduate.csv')\n",
        "\n",
        "# Split the dataset into features and target\n",
        "features = data.iloc[:, :-1]\n",
        "target = data.iloc[:, -1]\n",
        "\n",
        "# Split the dataset into training and testing sets\n",
        "X_train, X_test, y_train, y_test = train_test_split(features, target, test_size=0.3, random_state=1)\n",
        "\n",
        "# Create a Gaussian Naïve Bayes classifier\n",
        "gnb = GaussianNB()\n",
        "\n",
        "# Train the classifier on the training set\n",
        "gnb.fit(X_train, y_train)\n",
        "\n",
        "# Predict the target values for the test set\n",
        "y_pred = gnb.predict(X_test)\n",
        "\n",
        "# Calculate the accuracy of the classifier\n",
        "accuracy = accuracy_score(y_test, y_pred)\n",
        "\n",
        "# Print the accuracy of the classifier\n",
        "print(f\"The accuracy of the Naïve Bayes classifier is: {accuracy:.2f}\")"
      ],
      "metadata": {
        "colab": {
          "base_uri": "https://localhost:8080/"
        },
        "id": "dWf5wrBlU26L",
        "outputId": "0a90cc09-935e-479f-d9d6-b3ed1a987748"
      },
      "execution_count": 38,
      "outputs": [
        {
          "output_type": "stream",
          "name": "stdout",
          "text": [
            "The accuracy of the Naïve Bayes classifier is: 0.89\n"
          ]
        }
      ]
    },
    {
      "cell_type": "markdown",
      "source": [
        "Q3. Apply K-NN for the graduate admissions problem. Compare accuracy of K-NN for different values of K."
      ],
      "metadata": {
        "id": "UqF_02-OWf1r"
      }
    },
    {
      "cell_type": "code",
      "source": [
        "import pandas as pd\n",
        "from sklearn.neighbors import KNeighborsClassifier\n",
        "from sklearn.model_selection import train_test_split\n",
        "from sklearn.metrics import accuracy_score\n",
        "\n",
        "# Load the dataset\n",
        "data = pd.read_csv('Graduate.csv')\n",
        "\n",
        "# Split the dataset into features and target\n",
        "features = data.iloc[:, :-1]\n",
        "target = data.iloc[:, -1]\n",
        "\n",
        "# Split the dataset into training and testing sets\n",
        "X_train, X_test, y_train, y_test = train_test_split(features, target, test_size=0.3, random_state=1)\n",
        "\n",
        "# Define the range of k values to test\n",
        "k_values = range(1, 21)\n",
        "\n",
        "# Train and test the K-NN classifier for each value of k\n",
        "for k in k_values:\n",
        "    knn = KNeighborsClassifier(n_neighbors=k)\n",
        "    knn.fit(X_train, y_train)\n",
        "    y_pred = knn.predict(X_test)\n",
        "    accuracy = accuracy_score(y_test, y_pred)\n",
        "    print(f\"Accuracy for k={k}: {accuracy:.2f}\")\n"
      ],
      "metadata": {
        "colab": {
          "base_uri": "https://localhost:8080/"
        },
        "id": "7BFPtgkoVie5",
        "outputId": "4bccf0f1-c9c3-4a15-a5d0-c724febc2e52"
      },
      "execution_count": 40,
      "outputs": [
        {
          "output_type": "stream",
          "name": "stdout",
          "text": [
            "Accuracy for k=1: 0.93\n",
            "Accuracy for k=2: 0.92\n",
            "Accuracy for k=3: 0.93\n",
            "Accuracy for k=4: 0.93\n",
            "Accuracy for k=5: 0.93\n",
            "Accuracy for k=6: 0.93\n",
            "Accuracy for k=7: 0.93\n",
            "Accuracy for k=8: 0.93\n",
            "Accuracy for k=9: 0.91\n",
            "Accuracy for k=10: 0.91\n",
            "Accuracy for k=11: 0.91\n",
            "Accuracy for k=12: 0.91\n",
            "Accuracy for k=13: 0.91\n",
            "Accuracy for k=14: 0.91\n",
            "Accuracy for k=15: 0.91\n",
            "Accuracy for k=16: 0.91\n",
            "Accuracy for k=17: 0.91\n",
            "Accuracy for k=18: 0.91\n",
            "Accuracy for k=19: 0.91\n",
            "Accuracy for k=20: 0.91\n"
          ]
        }
      ]
    },
    {
      "cell_type": "markdown",
      "source": [
        "Q4. Plot the bar chart for target variable in graduate.csv. You may observe the\n",
        "class imbalance (ie. Class=1 more than Class=0). You may address this problem\n",
        "either by data augmentation (to create dummy samples for Class=0) or SMOTE\n",
        "algorithm for imbalance."
      ],
      "metadata": {
        "id": "7GxQKr-jWuWg"
      }
    },
    {
      "cell_type": "code",
      "source": [
        "import pandas as pd\n",
        "import matplotlib.pyplot as plt\n",
        "from imblearn.over_sampling import SMOTE\n",
        "from sklearn.naive_bayes import GaussianNB, MultinomialNB\n",
        "from sklearn.neighbors import KNeighborsClassifier\n",
        "from sklearn.metrics import f1_score, precision_score, recall_score, roc_auc_score\n",
        "\n",
        "# Load the dataset\n",
        "data = pd.read_csv(\"Graduate.csv\")\n",
        "\n",
        "# Visualize class imbalance\n",
        "class_counts = data[\"Admit\"].value_counts()\n",
        "plt.figure(figsize=(8, 6))\n",
        "plt.bar(class_counts.index, class_counts.values)\n",
        "plt.xlabel(\"Admission Status (0: Not admitted, 1: Admitted)\")\n",
        "plt.ylabel(\"Number of Applicants\")\n",
        "plt.title(\"Class Distribution in graduate.csv\")\n",
        "plt.show()\n",
        "\n",
        "# Separate features and target\n",
        "X = data.drop(\"Admit\", axis=1)\n",
        "y = data[\"Admit\"]\n",
        "\n",
        "# Apply SMOTE to address class imbalance\n",
        "smote = SMOTE(random_state=42)\n",
        "X_resampled, y_resampled = smote.fit_resample(X, y)\n",
        "\n",
        "# Train Naive Bayes and KNN models on both original and resampled datasets\n",
        "models = [GaussianNB(), MultinomialNB(), KNeighborsClassifier()]\n",
        "for model in models:\n",
        "    model_name = model.__class__.__name__\n",
        "    print(f\"\\nModel: {model_name}\")\n",
        "\n",
        "    # Train on original dataset\n",
        "    model.fit(X, y)\n",
        "    original_y_pred = model.predict(X)\n",
        "    print(f\"Original dataset evaluation:\")\n",
        "    print(f\"F1-score: {f1_score(y, original_y_pred)}\")\n",
        "    print(f\"Precision: {precision_score(y, original_y_pred)}\")\n",
        "    print(f\"Recall: {recall_score(y, original_y_pred)}\")\n",
        "    print(f\"AUC-ROC: {roc_auc_score(y, original_y_pred)}\")\n",
        "\n",
        "    # Train on resampled dataset\n",
        "    model.fit(X_resampled, y_resampled)\n",
        "    resampled_y_pred = model.predict(X_resampled)\n",
        "    print(f\"Resampled dataset evaluation:\")\n",
        "    print(f\"F1-score: {f1_score(y_resampled, resampled_y_pred)}\")\n",
        "    print(f\"Precision: {precision_score(y_resampled, resampled_y_pred)}\")\n",
        "    print(f\"Recall: {recall_score(y_resampled, resampled_y_pred)}\")\n",
        "    print(f\"AUC-ROC: {roc_auc_score(y_resampled, resampled_y_pred)}\")\n"
      ],
      "metadata": {
        "colab": {
          "base_uri": "https://localhost:8080/",
          "height": 1000
        },
        "id": "r2DqXvhmWOnz",
        "outputId": "545be575-372c-416a-f07f-0c338a1aa159"
      },
      "execution_count": 42,
      "outputs": [
        {
          "output_type": "display_data",
          "data": {
            "text/plain": [
              "<Figure size 800x600 with 1 Axes>"
            ],
            "image/png": "[encoded data removed]"
          },
          "metadata": {}
        },
        {
          "output_type": "stream",
          "name": "stdout",
          "text": [
            "\n",
            "Model: GaussianNB\n",
            "Original dataset evaluation:\n",
            "F1-score: 0.9243119266055045\n",
            "Precision: 0.9853300733496333\n",
            "Recall: 0.8704103671706264\n",
            "AUC-ROC: 0.8541241025042321\n",
            "Resampled dataset evaluation:\n",
            "F1-score: 0.8886363636363637\n",
            "Precision: 0.9376498800959233\n",
            "Recall: 0.8444924406047516\n",
            "AUC-ROC: 0.8941684665226782\n",
            "\n",
            "Model: MultinomialNB\n",
            "Original dataset evaluation:\n",
            "F1-score: 0.7361477572559366\n",
            "Precision: 0.9457627118644067\n",
            "Recall: 0.6025917926565875\n",
            "AUC-ROC: 0.5850796801120774\n",
            "Resampled dataset evaluation:\n",
            "F1-score: 0.5686695278969958\n",
            "Precision: 0.5650319829424307\n",
            "Recall: 0.572354211663067\n",
            "AUC-ROC: 0.5658747300215983\n",
            "\n",
            "Model: KNeighborsClassifier\n",
            "Original dataset evaluation:\n",
            "F1-score: 0.9776357827476038\n",
            "Precision: 0.9642857142857143\n",
            "Recall: 0.9913606911447084\n",
            "AUC-ROC: 0.7659506158426245\n",
            "Resampled dataset evaluation:\n",
            "F1-score: 0.9478357380688124\n",
            "Precision: 0.9748858447488584\n",
            "Recall: 0.9222462203023758\n",
            "AUC-ROC: 0.949244060475162\n"
          ]
        }
      ]
    }
  ]
}