{
  "nbformat": 4,
  "nbformat_minor": 0,
  "metadata": {
    "colab": {
      "provenance": []
    },
    "kernelspec": {
      "name": "python3",
      "display_name": "Python 3"
    },
    "language_info": {
      "name": "python"
    }
  },
  "cells": [
    {
      "cell_type": "markdown",
      "source": [
        "Q1. Design a binary classifier for classifying the following emails as spam (1) or ham (0). Use email.csv for training.\n",
        "- Print all the parameter values learnt after training\n",
        "- Show the accuracy on the test set."
      ],
      "metadata": {
        "id": "Dv2gVpTSLU89"
      }
    },
    {
      "cell_type": "code",
      "source": [
        "import pandas as pd\n",
        "import numpy as np\n",
        "\n",
        "df = pd.read_csv('email.csv')\n",
        "X = df[['x1', 'x2', 'x3', 'x4', 'x5']]\n",
        "y = df['class']\n",
        "\n",
        "y = np.where(y == 'spam', 1, 0) # Convert labels to 0 and 1\n",
        "X = np.c_[np.ones((len(X), 1)), X] # Add a column of ones to X for the intercept term\n",
        "\n",
        "theta = np.zeros(X.shape[1]) # Initialize parameters\n",
        "\n",
        "# Define the sigmoid function\n",
        "def sigmoid(z):\n",
        "    return 1 / (1 + np.exp(-z))\n",
        "\n",
        "# Define the cost function\n",
        "def cost_function(X, y, theta):\n",
        "    m = len(y)\n",
        "    h = sigmoid(X @ theta)\n",
        "    cost = -(1/m) * (y.T @ np.log(h) + (1 - y).T @ np.log(1 - h))\n",
        "    return cost\n",
        "\n",
        "# Perform gradient descent\n",
        "alpha = 0.01\n",
        "epochs = 1000\n",
        "\n",
        "for epoch in range(epochs):\n",
        "    h = sigmoid(X @ theta)\n",
        "    gradient = X.T @ (h - y) / len(y)\n",
        "    theta -= alpha * gradient\n",
        "\n",
        "# Assuming the test emails are in X_test\n",
        "X_test = np.array([\n",
        "    [0, 1, 0, 1, 0],\n",
        "    [1, 1, 1, 0, 1],\n",
        "    [0, 1, 1, 0, 0],\n",
        "    [1, 0, 1, 0, 0],\n",
        "    [0, 1, 0, 0, 1],\n",
        "    [0, 0, 0, 1, 1],\n",
        "    [0, 1, 0, 1, 1],\n",
        "    [0, 0, 0, 0, 1]\n",
        "])\n",
        "\n",
        "# Add a column of ones to X_test for the intercept term\n",
        "X_test = np.c_[np.ones((len(X_test), 1)), X_test]\n",
        "\n",
        "# Predict labels for the test set\n",
        "predictions = np.round(sigmoid(X_test @ theta))\n",
        "\n",
        "# Print the predicted labels for the test set\n",
        "label_mapping = {1: 'spam', 0: 'ham'}\n",
        "predicted_labels = [label_mapping[prediction] for prediction in predictions]\n",
        "print(\"Predicted Labels for Test Set:\", predicted_labels)\n",
        "\n",
        "true_labels = np.array([1, 1, 1, 1, 0, 0, 0, 0]) # Assuming the true labels for the test set\n",
        "\n",
        "accuracy = np.mean(predictions == true_labels)\n",
        "print(\"Accuracy on Test Set:\", accuracy)\n"
      ],
      "metadata": {
        "colab": {
          "base_uri": "https://localhost:8080/"
        },
        "id": "heyhMJcgK_Sk",
        "outputId": "5cdd304f-4a70-4f99-fef9-af4b847e99be"
      },
      "execution_count": 29,
      "outputs": [
        {
          "output_type": "stream",
          "name": "stdout",
          "text": [
            "Predicted Labels for Test Set: ['ham', 'ham', 'ham', 'ham', 'ham', 'ham', 'ham', 'ham']\n",
            "Accuracy on Test Set: 0.5\n"
          ]
        }
      ]
    },
    {
      "cell_type": "markdown",
      "source": [
        "Q2. Use appropriate Scikit Library function to apply logistic regression on the same dataset and compare the results with your implementation."
      ],
      "metadata": {
        "id": "CzlB0ozDa-2m"
      }
    },
    {
      "cell_type": "code",
      "execution_count": 30,
      "metadata": {
        "colab": {
          "base_uri": "https://localhost:8080/"
        },
        "id": "3Lq3rXd6B_r7",
        "outputId": "557c5285-9b80-4347-ee3e-6eec63c0aa11"
      },
      "outputs": [
        {
          "output_type": "stream",
          "name": "stdout",
          "text": [
            "Learned Coefficients: [[-0.09425666  1.057532   -0.09425617 -1.3631898   1.36318972]]\n",
            "Learned Intercept: [0.15827465]\n",
            "Predictions for Test Emails: [1 1 1 0 1 1 1 1]\n",
            "Accuracy on Test Set: 0.375\n",
            "Test Emails: ['spam', 'spam', 'spam', 'ham', 'spam', 'spam', 'spam', 'spam']\n",
            "Accuracy on Test Set: 0.375\n"
          ]
        }
      ],
      "source": [
        "import pandas as pd\n",
        "from sklearn.linear_model import LogisticRegression\n",
        "from sklearn.metrics import accuracy_score\n",
        "\n",
        "df_train = pd.read_csv('email.csv')\n",
        "X_train = df_train[['x1', 'x2', 'x3', 'x4', 'x5']]\n",
        "y_train = df_train['class']\n",
        "\n",
        "model = LogisticRegression() # Create and train a logistic regression model\n",
        "model.fit(X_train, y_train)\n",
        "\n",
        "print(\"Learned Coefficients:\", model.coef_) # Step 3: Print Parameter Values\n",
        "print(\"Learned Intercept:\", model.intercept_)\n",
        "\n",
        "# Test emails\n",
        "X_test = pd.DataFrame({\n",
        "    'x1': [0, 1, 0, 1, 0, 0, 0, 0],\n",
        "    'x2': [1, 1, 1, 0, 1, 0, 1, 0],\n",
        "    'x3': [0, 1, 1, 1, 0, 0, 0, 0],\n",
        "    'x4': [0, 0, 0, 0, 0, 1, 1, 0],\n",
        "    'x5': [0, 1, 0, 0, 1, 1, 1, 1]\n",
        "})\n",
        "\n",
        "predictions = model.predict(X_test) #Make Predictions on Test Set\n",
        "print(\"Predictions for Test Emails:\", predictions)\n",
        "\n",
        "true_labels = [1, 1, 1, 1, 0, 0, 0, 0] # Assuming the true labels for the test set\n",
        "\n",
        "accuracy = accuracy_score(true_labels, predictions)\n",
        "print(\"Accuracy on Test Set:\", accuracy)\n",
        "\n",
        "label_mapping = {1: 'spam', 0: 'ham'}\n",
        "labels = [label_mapping[prediction] for prediction in predictions]\n",
        "print(\"Test Emails:\", labels)\n",
        "\n",
        "true_labels = ['spam', 'spam', 'spam', 'spam', 'ham', 'ham', 'ham', 'ham'] # Assuming the true labels for the test set\n",
        "\n",
        "accuracy = accuracy_score(true_labels, labels)\n",
        "print(\"Accuracy on Test Set:\", accuracy)"
      ]
    },
    {
      "cell_type": "markdown",
      "source": [
        "Q3. Also use logistic regression model to predict the risk of having heart disease using the given dataset (heart.csv). You need to show complete pre-processing steps (identifying null or missing values, normalization, etc.)"
      ],
      "metadata": {
        "id": "aiYtZio4bH77"
      }
    },
    {
      "cell_type": "code",
      "source": [
        "import pandas as pd\n",
        "from sklearn.model_selection import train_test_split\n",
        "from sklearn.preprocessing import OneHotEncoder, StandardScaler\n",
        "from sklearn.linear_model import LogisticRegression\n",
        "from sklearn.metrics import accuracy_score, classification_report\n",
        "\n",
        "df = pd.read_csv('heart.csv')\n",
        "X = df.drop('HeartDisease', axis=1)\n",
        "y = df['HeartDisease']\n",
        "\n",
        "# Encode categorical variables\n",
        "X_encoded = pd.get_dummies(X, columns=['Sex', 'ChestPainType', 'FastingBS', 'RestingECG', 'ExerciseAngina', 'ST_Slope'])\n",
        "\n",
        "X_train, X_test, y_train, y_test = train_test_split(X_encoded, y, test_size=0.2, random_state=42) # Split the data into training and testing sets\n",
        "\n",
        "# Standardize the features\n",
        "scaler = StandardScaler()\n",
        "X_train_scaled = scaler.fit_transform(X_train)\n",
        "X_test_scaled = scaler.transform(X_test)\n",
        "\n",
        "model = LogisticRegression(random_state=42) # Create and train a logistic regression model\n",
        "model.fit(X_train_scaled, y_train)\n",
        "\n",
        "y_pred = model.predict(X_test_scaled) # Make predictions on the test set\n",
        "\n",
        "accuracy = accuracy_score(y_test, y_pred)\n",
        "classification_report_output = classification_report(y_test, y_pred)\n",
        "print(\"Accuracy on Test Set:\", accuracy)\n",
        "print(\"Classification Report:\\n\", classification_report_output)"
      ],
      "metadata": {
        "colab": {
          "base_uri": "https://localhost:8080/"
        },
        "id": "qhE5SsuvbVT1",
        "outputId": "512dc36a-c214-40e7-9b56-77709a2f1559"
      },
      "execution_count": 33,
      "outputs": [
        {
          "output_type": "stream",
          "name": "stdout",
          "text": [
            "Accuracy on Test Set: 0.8532608695652174\n",
            "Classification Report:\n",
            "               precision    recall  f1-score   support\n",
            "\n",
            "           0       0.80      0.87      0.83        77\n",
            "           1       0.90      0.84      0.87       107\n",
            "\n",
            "    accuracy                           0.85       184\n",
            "   macro avg       0.85      0.86      0.85       184\n",
            "weighted avg       0.86      0.85      0.85       184\n",
            "\n"
          ]
        }
      ]
    }
  ]
}